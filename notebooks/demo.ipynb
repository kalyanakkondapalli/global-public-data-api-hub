{
  "cells": [
    {
      "cell_type": "markdown",
      "metadata": {},
      "source": [
        "# Demo: Global Public Data API Hub\n",
        "This notebook demonstrates how to use the FastAPI server and query datasets."
      ]
    },
    {
      "cell_type": "code",
      "execution_count": null,
      "metadata": {},
      "outputs": [],
      "source": [
        "import requests\n",
        "BASE = \"http://127.0.0.1:8000\"\n",
        "\n",
        "datasets = requests.get(f\"{BASE}/v1/datasets\").json()\n",
        "datasets[:5]"
      ]
    },
    {
      "cell_type": "code",
      "execution_count": null,
      "metadata": {},
      "outputs": [],
      "source": [
        "# Example: World Bank GDP\n",
        "resp = requests.get(f\"{BASE}/v1/query\", params={\"dataset_id\": \"worldbank:NY.GDP.MKTP.CD\", \"date\": \"2015:2020\", \"limit\": 5})\n",
        "resp.json()"
      ]
    },
    {
      "cell_type": "code",
      "execution_count": null,
      "metadata": {},
      "outputs": [],
      "source": [
        "# Example: Eurostat demo\n",
        "resp = requests.get(f\"{BASE}/v1/query\", params={\"dataset_id\": \"eurostat:demo_pjan\", \"limit\": 5})\n",
        "resp.json()"
      ]
    }
  ],
  "metadata": {
    "kernelspec": {
      "display_name": "Python 3",
      "language": "python",
      "name": "python3"
    }
  },
  "nbformat": 4,
  "nbformat_minor": 2
}